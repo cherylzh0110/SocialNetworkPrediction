{
 "cells": [
  {
   "cell_type": "code",
   "execution_count": 5,
   "metadata": {},
   "outputs": [
    {
     "name": "stdout",
     "output_type": "stream",
     "text": [
      "132482\n"
     ]
    }
   ],
   "source": [
    "import networkx as nx\n",
    "import random\n",
    "import math\n",
    "import csv\n",
    "import multiprocessing as mp\n",
    "f = open(\"textfilter3.csv\", \"rb\")\n",
    "g = nx.read_edgelist(f)\n",
    "num_edges = g.number_of_edges()\n",
    "num_nodes = g.number_of_nodes()\n",
    "f.close()\n",
    "\n",
    "newgraph = nx.DiGraph()\n",
    "newgraph.add_edges_from(g.edges(), positive=\"True\") \n",
    "nx.write_edgelist(newgraph, \"newgraph3.txt\", data=['positive'])\n",
    "\n",
    "num_sample_edges = int(math.floor(0.1 * num_edges))  # positive sample data\n",
    "print(num_sample_edges)\n",
    "sample_edges = random.sample(newgraph.edges(), num_sample_edges)\n",
    "sample_g = nx.Graph()\n",
    "sample_g.add_edges_from(sample_edges, positive = \"True\")\n",
    "nx.write_edgelist(sample_g, \"positivesample3.txt\", data=['positive'])  "
   ]
  },
  {
   "cell_type": "code",
   "execution_count": 6,
   "metadata": {
    "collapsed": true
   },
   "outputs": [],
   "source": [
    "fake_negative = open(\"negativesample3.txt\",\"w\")  # make negative sample the same as num_sample_edges(positive sample data) \n",
    "# and add it to sample_g, thus sample_g has data amount of 2*num_sample_edges(2 × 132482 records of edges)\n",
    "i = 0\n",
    "while i < num_sample_edges:  #132482 records\n",
    "    edge = random.sample(sample_g.nodes(), 2)\n",
    "    try:\n",
    "        shortest_path = nx.shortest_path_length(sample_g,source=edge[0],target=edge[1])\n",
    "        if shortest_path !=1:\n",
    "            sample_g.add_edge(edge[0],edge[1], positive=\"False\")   #add neagtive case            \n",
    "            i += 1\n",
    "    except:\n",
    "        sample_g.add_edge(edge[0],edge[1], positive=\"False\") \n",
    "        i +=1   \n",
    "    fake_negative.write(str(edge[0])+\" \"+str(edge[1])+\" False\\n\")\n",
    "fake_negative.close()"
   ]
  },
  {
   "cell_type": "code",
   "execution_count": 7,
   "metadata": {},
   "outputs": [
    {
     "name": "stdout",
     "output_type": "stream",
     "text": [
      "264964\n"
     ]
    }
   ],
   "source": [
    "print(sample_g.number_of_edges())\n",
    "nx.write_edgelist(sample_g, \"allsample3.txt\", delimiter=',' , data = ['positive'])"
   ]
  },
  {
   "cell_type": "code",
   "execution_count": 8,
   "metadata": {},
   "outputs": [
    {
     "data": {
      "text/html": [
       "<div>\n",
       "<style>\n",
       "    .dataframe thead tr:only-child th {\n",
       "        text-align: right;\n",
       "    }\n",
       "\n",
       "    .dataframe thead th {\n",
       "        text-align: left;\n",
       "    }\n",
       "\n",
       "    .dataframe tbody tr th {\n",
       "        vertical-align: top;\n",
       "    }\n",
       "</style>\n",
       "<table border=\"1\" class=\"dataframe\">\n",
       "  <thead>\n",
       "    <tr style=\"text-align: right;\">\n",
       "      <th></th>\n",
       "      <th>source</th>\n",
       "      <th>target</th>\n",
       "    </tr>\n",
       "  </thead>\n",
       "  <tbody>\n",
       "    <tr>\n",
       "      <th>0</th>\n",
       "      <td>2184483</td>\n",
       "      <td>1300190</td>\n",
       "    </tr>\n",
       "    <tr>\n",
       "      <th>1</th>\n",
       "      <td>3151356</td>\n",
       "      <td>1452193</td>\n",
       "    </tr>\n",
       "    <tr>\n",
       "      <th>2</th>\n",
       "      <td>1579396</td>\n",
       "      <td>193159</td>\n",
       "    </tr>\n",
       "    <tr>\n",
       "      <th>3</th>\n",
       "      <td>1406432</td>\n",
       "      <td>2481036</td>\n",
       "    </tr>\n",
       "    <tr>\n",
       "      <th>4</th>\n",
       "      <td>2389638</td>\n",
       "      <td>593017</td>\n",
       "    </tr>\n",
       "  </tbody>\n",
       "</table>\n",
       "</div>"
      ],
      "text/plain": [
       "    source   target\n",
       "0  2184483  1300190\n",
       "1  3151356  1452193\n",
       "2  1579396   193159\n",
       "3  1406432  2481036\n",
       "4  2389638   593017"
      ]
     },
     "execution_count": 8,
     "metadata": {},
     "output_type": "execute_result"
    }
   ],
   "source": [
    "import csv\n",
    "import pandas as pd\n",
    "import numpy as np\n",
    "import multiprocessing as mp\n",
    "f = open(\"testdata.csv\", \"rb\")\n",
    "dftest = pd.read_table('testdata.csv', sep = '\\t', names = [\"source\", \"target\"])\n",
    "dftest[:5]"
   ]
  },
  {
   "cell_type": "code",
   "execution_count": 9,
   "metadata": {
    "collapsed": true
   },
   "outputs": [],
   "source": [
    "pr = nx.pagerank(newgraph)"
   ]
  },
  {
   "cell_type": "code",
   "execution_count": 1,
   "metadata": {
    "collapsed": true
   },
   "outputs": [],
   "source": [
    "import pandas as pd\n",
    "from sklearn.model_selection import train_test_split\n",
    "df = pd.read_table('trainingdataframe.txt', sep = '\\t')"
   ]
  },
  {
   "cell_type": "code",
   "execution_count": 17,
   "metadata": {
    "collapsed": true
   },
   "outputs": [],
   "source": [
    "sourcepr = []\n",
    "targetpr = []\n",
    "for s in df[\"source\"]:\n",
    "    sourcepr.append(pr[str(s)])\n",
    "for s in df[\"target\"]:\n",
    "    targetpr.append(pr[str(s)])"
   ]
  },
  {
   "cell_type": "code",
   "execution_count": 19,
   "metadata": {},
   "outputs": [
    {
     "data": {
      "text/html": [
       "<div>\n",
       "<style>\n",
       "    .dataframe thead tr:only-child th {\n",
       "        text-align: right;\n",
       "    }\n",
       "\n",
       "    .dataframe thead th {\n",
       "        text-align: left;\n",
       "    }\n",
       "\n",
       "    .dataframe tbody tr th {\n",
       "        vertical-align: top;\n",
       "    }\n",
       "</style>\n",
       "<table border=\"1\" class=\"dataframe\">\n",
       "  <thead>\n",
       "    <tr style=\"text-align: right;\">\n",
       "      <th></th>\n",
       "      <th>Unnamed: 0</th>\n",
       "      <th>source</th>\n",
       "      <th>target</th>\n",
       "      <th>positive</th>\n",
       "      <th>Common</th>\n",
       "      <th>Jaccard</th>\n",
       "      <th>PreferentialAttachment</th>\n",
       "      <th>AdamicAdar</th>\n",
       "      <th>ResourceAllocation</th>\n",
       "      <th>Sourcepr</th>\n",
       "      <th>Targetpr</th>\n",
       "    </tr>\n",
       "  </thead>\n",
       "  <tbody>\n",
       "    <tr>\n",
       "      <th>0</th>\n",
       "      <td>0</td>\n",
       "      <td>2789436</td>\n",
       "      <td>2203730</td>\n",
       "      <td>True</td>\n",
       "      <td>43</td>\n",
       "      <td>0.112565</td>\n",
       "      <td>36036</td>\n",
       "      <td>7.807700</td>\n",
       "      <td>0.202805</td>\n",
       "      <td>0.000004</td>\n",
       "      <td>0.000006</td>\n",
       "    </tr>\n",
       "    <tr>\n",
       "      <th>1</th>\n",
       "      <td>1</td>\n",
       "      <td>2789436</td>\n",
       "      <td>1467962</td>\n",
       "      <td>True</td>\n",
       "      <td>54</td>\n",
       "      <td>0.113924</td>\n",
       "      <td>67760</td>\n",
       "      <td>10.368729</td>\n",
       "      <td>0.354982</td>\n",
       "      <td>0.000004</td>\n",
       "      <td>0.000006</td>\n",
       "    </tr>\n",
       "    <tr>\n",
       "      <th>2</th>\n",
       "      <td>2</td>\n",
       "      <td>2789436</td>\n",
       "      <td>812874</td>\n",
       "      <td>True</td>\n",
       "      <td>27</td>\n",
       "      <td>0.076705</td>\n",
       "      <td>21868</td>\n",
       "      <td>4.776423</td>\n",
       "      <td>0.141276</td>\n",
       "      <td>0.000004</td>\n",
       "      <td>0.000005</td>\n",
       "    </tr>\n",
       "    <tr>\n",
       "      <th>3</th>\n",
       "      <td>3</td>\n",
       "      <td>2789436</td>\n",
       "      <td>3183013</td>\n",
       "      <td>True</td>\n",
       "      <td>25</td>\n",
       "      <td>0.075988</td>\n",
       "      <td>14168</td>\n",
       "      <td>5.283508</td>\n",
       "      <td>0.285230</td>\n",
       "      <td>0.000004</td>\n",
       "      <td>0.000006</td>\n",
       "    </tr>\n",
       "  </tbody>\n",
       "</table>\n",
       "</div>"
      ],
      "text/plain": [
       "   Unnamed: 0   source   target  positive  Common   Jaccard  \\\n",
       "0           0  2789436  2203730      True      43  0.112565   \n",
       "1           1  2789436  1467962      True      54  0.113924   \n",
       "2           2  2789436   812874      True      27  0.076705   \n",
       "3           3  2789436  3183013      True      25  0.075988   \n",
       "\n",
       "   PreferentialAttachment  AdamicAdar  ResourceAllocation  Sourcepr  Targetpr  \n",
       "0                   36036    7.807700            0.202805  0.000004  0.000006  \n",
       "1                   67760   10.368729            0.354982  0.000004  0.000006  \n",
       "2                   21868    4.776423            0.141276  0.000004  0.000005  \n",
       "3                   14168    5.283508            0.285230  0.000004  0.000006  "
      ]
     },
     "execution_count": 19,
     "metadata": {},
     "output_type": "execute_result"
    }
   ],
   "source": [
    "df[\"Sourcepr\"] = sourcepr\n",
    "df[\"Targetpr\"] = targetpr\n",
    "df[:4]"
   ]
  },
  {
   "cell_type": "code",
   "execution_count": 2,
   "metadata": {},
   "outputs": [
    {
     "data": {
      "text/html": [
       "<div>\n",
       "<style>\n",
       "    .dataframe thead tr:only-child th {\n",
       "        text-align: right;\n",
       "    }\n",
       "\n",
       "    .dataframe thead th {\n",
       "        text-align: left;\n",
       "    }\n",
       "\n",
       "    .dataframe tbody tr th {\n",
       "        vertical-align: top;\n",
       "    }\n",
       "</style>\n",
       "<table border=\"1\" class=\"dataframe\">\n",
       "  <thead>\n",
       "    <tr style=\"text-align: right;\">\n",
       "      <th></th>\n",
       "      <th>Unnamed: 0</th>\n",
       "      <th>source</th>\n",
       "      <th>target</th>\n",
       "      <th>positive</th>\n",
       "      <th>Common</th>\n",
       "      <th>Jaccard</th>\n",
       "      <th>PreferentialAttachment</th>\n",
       "      <th>AdamicAdar</th>\n",
       "      <th>ResourceAllocation</th>\n",
       "    </tr>\n",
       "  </thead>\n",
       "  <tbody>\n",
       "    <tr>\n",
       "      <th>0</th>\n",
       "      <td>0</td>\n",
       "      <td>2789436</td>\n",
       "      <td>2203730</td>\n",
       "      <td>True</td>\n",
       "      <td>43</td>\n",
       "      <td>0.112565</td>\n",
       "      <td>36036</td>\n",
       "      <td>7.807700</td>\n",
       "      <td>0.202805</td>\n",
       "    </tr>\n",
       "    <tr>\n",
       "      <th>1</th>\n",
       "      <td>1</td>\n",
       "      <td>2789436</td>\n",
       "      <td>1467962</td>\n",
       "      <td>True</td>\n",
       "      <td>54</td>\n",
       "      <td>0.113924</td>\n",
       "      <td>67760</td>\n",
       "      <td>10.368729</td>\n",
       "      <td>0.354982</td>\n",
       "    </tr>\n",
       "  </tbody>\n",
       "</table>\n",
       "</div>"
      ],
      "text/plain": [
       "   Unnamed: 0   source   target  positive  Common   Jaccard  \\\n",
       "0           0  2789436  2203730      True      43  0.112565   \n",
       "1           1  2789436  1467962      True      54  0.113924   \n",
       "\n",
       "   PreferentialAttachment  AdamicAdar  ResourceAllocation  \n",
       "0                   36036    7.807700            0.202805  \n",
       "1                   67760   10.368729            0.354982  "
      ]
     },
     "execution_count": 2,
     "metadata": {},
     "output_type": "execute_result"
    }
   ],
   "source": [
    "#df.drop(df.columns[[0,1]], axis=1, inplace=True)\n",
    "df[:2]"
   ]
  },
  {
   "cell_type": "code",
   "execution_count": 31,
   "metadata": {},
   "outputs": [
    {
     "data": {
      "text/html": [
       "<div>\n",
       "<style>\n",
       "    .dataframe thead tr:only-child th {\n",
       "        text-align: right;\n",
       "    }\n",
       "\n",
       "    .dataframe thead th {\n",
       "        text-align: left;\n",
       "    }\n",
       "\n",
       "    .dataframe tbody tr th {\n",
       "        vertical-align: top;\n",
       "    }\n",
       "</style>\n",
       "<table border=\"1\" class=\"dataframe\">\n",
       "  <thead>\n",
       "    <tr style=\"text-align: right;\">\n",
       "      <th></th>\n",
       "      <th>Common</th>\n",
       "      <th>Jaccard</th>\n",
       "      <th>PreferentialAttachment</th>\n",
       "      <th>AdamicAdar</th>\n",
       "      <th>ResourceAllocation</th>\n",
       "      <th>Sourcepr</th>\n",
       "      <th>Targetpr</th>\n",
       "    </tr>\n",
       "  </thead>\n",
       "  <tbody>\n",
       "    <tr>\n",
       "      <th>count</th>\n",
       "      <td>264964.000000</td>\n",
       "      <td>264964.000000</td>\n",
       "      <td>2.649640e+05</td>\n",
       "      <td>264964.000000</td>\n",
       "      <td>264964.000000</td>\n",
       "      <td>264964.000000</td>\n",
       "      <td>264964.000000</td>\n",
       "    </tr>\n",
       "    <tr>\n",
       "      <th>mean</th>\n",
       "      <td>9.787726</td>\n",
       "      <td>0.016103</td>\n",
       "      <td>4.194262e+04</td>\n",
       "      <td>1.711725</td>\n",
       "      <td>0.051195</td>\n",
       "      <td>0.000013</td>\n",
       "      <td>0.000010</td>\n",
       "    </tr>\n",
       "    <tr>\n",
       "      <th>std</th>\n",
       "      <td>35.713417</td>\n",
       "      <td>0.037162</td>\n",
       "      <td>1.664428e+05</td>\n",
       "      <td>6.869503</td>\n",
       "      <td>0.263697</td>\n",
       "      <td>0.000021</td>\n",
       "      <td>0.000015</td>\n",
       "    </tr>\n",
       "    <tr>\n",
       "      <th>min</th>\n",
       "      <td>0.000000</td>\n",
       "      <td>0.000000</td>\n",
       "      <td>1.000000e+00</td>\n",
       "      <td>0.000000</td>\n",
       "      <td>0.000000</td>\n",
       "      <td>0.000004</td>\n",
       "      <td>0.000004</td>\n",
       "    </tr>\n",
       "    <tr>\n",
       "      <th>25%</th>\n",
       "      <td>0.000000</td>\n",
       "      <td>0.000000</td>\n",
       "      <td>1.400000e+02</td>\n",
       "      <td>0.000000</td>\n",
       "      <td>0.000000</td>\n",
       "      <td>0.000004</td>\n",
       "      <td>0.000004</td>\n",
       "    </tr>\n",
       "    <tr>\n",
       "      <th>50%</th>\n",
       "      <td>0.000000</td>\n",
       "      <td>0.000000</td>\n",
       "      <td>1.440000e+03</td>\n",
       "      <td>0.000000</td>\n",
       "      <td>0.000000</td>\n",
       "      <td>0.000006</td>\n",
       "      <td>0.000005</td>\n",
       "    </tr>\n",
       "    <tr>\n",
       "      <th>75%</th>\n",
       "      <td>7.000000</td>\n",
       "      <td>0.016667</td>\n",
       "      <td>2.022300e+04</td>\n",
       "      <td>1.218961</td>\n",
       "      <td>0.024060</td>\n",
       "      <td>0.000010</td>\n",
       "      <td>0.000008</td>\n",
       "    </tr>\n",
       "    <tr>\n",
       "      <th>max</th>\n",
       "      <td>1721.000000</td>\n",
       "      <td>1.000000</td>\n",
       "      <td>7.660485e+06</td>\n",
       "      <td>345.763825</td>\n",
       "      <td>13.814983</td>\n",
       "      <td>0.000279</td>\n",
       "      <td>0.000279</td>\n",
       "    </tr>\n",
       "  </tbody>\n",
       "</table>\n",
       "</div>"
      ],
      "text/plain": [
       "              Common        Jaccard  PreferentialAttachment     AdamicAdar  \\\n",
       "count  264964.000000  264964.000000            2.649640e+05  264964.000000   \n",
       "mean        9.787726       0.016103            4.194262e+04       1.711725   \n",
       "std        35.713417       0.037162            1.664428e+05       6.869503   \n",
       "min         0.000000       0.000000            1.000000e+00       0.000000   \n",
       "25%         0.000000       0.000000            1.400000e+02       0.000000   \n",
       "50%         0.000000       0.000000            1.440000e+03       0.000000   \n",
       "75%         7.000000       0.016667            2.022300e+04       1.218961   \n",
       "max      1721.000000       1.000000            7.660485e+06     345.763825   \n",
       "\n",
       "       ResourceAllocation       Sourcepr       Targetpr  \n",
       "count       264964.000000  264964.000000  264964.000000  \n",
       "mean             0.051195       0.000013       0.000010  \n",
       "std              0.263697       0.000021       0.000015  \n",
       "min              0.000000       0.000004       0.000004  \n",
       "25%              0.000000       0.000004       0.000004  \n",
       "50%              0.000000       0.000006       0.000005  \n",
       "75%              0.024060       0.000010       0.000008  \n",
       "max             13.814983       0.000279       0.000279  "
      ]
     },
     "execution_count": 31,
     "metadata": {},
     "output_type": "execute_result"
    }
   ],
   "source": [
    "df.describe()"
   ]
  },
  {
   "cell_type": "code",
   "execution_count": 34,
   "metadata": {},
   "outputs": [
    {
     "data": {
      "text/html": [
       "<div>\n",
       "<style>\n",
       "    .dataframe thead tr:only-child th {\n",
       "        text-align: right;\n",
       "    }\n",
       "\n",
       "    .dataframe thead th {\n",
       "        text-align: left;\n",
       "    }\n",
       "\n",
       "    .dataframe tbody tr th {\n",
       "        vertical-align: top;\n",
       "    }\n",
       "</style>\n",
       "<table border=\"1\" class=\"dataframe\">\n",
       "  <thead>\n",
       "    <tr style=\"text-align: right;\">\n",
       "      <th></th>\n",
       "      <th>Common</th>\n",
       "      <th>Jaccard</th>\n",
       "      <th>PreferentialAttachment</th>\n",
       "      <th>AdamicAdar</th>\n",
       "      <th>ResourceAllocation</th>\n",
       "      <th>Sourcepr</th>\n",
       "      <th>Targetpr</th>\n",
       "    </tr>\n",
       "  </thead>\n",
       "  <tbody>\n",
       "    <tr>\n",
       "      <th>0</th>\n",
       "      <td>0.024985</td>\n",
       "      <td>0.112565</td>\n",
       "      <td>0.004704</td>\n",
       "      <td>0.022581</td>\n",
       "      <td>0.014680</td>\n",
       "      <td>0.00044</td>\n",
       "      <td>0.006048</td>\n",
       "    </tr>\n",
       "    <tr>\n",
       "      <th>1</th>\n",
       "      <td>0.031377</td>\n",
       "      <td>0.113924</td>\n",
       "      <td>0.008845</td>\n",
       "      <td>0.029988</td>\n",
       "      <td>0.025695</td>\n",
       "      <td>0.00044</td>\n",
       "      <td>0.009100</td>\n",
       "    </tr>\n",
       "    <tr>\n",
       "      <th>2</th>\n",
       "      <td>0.015689</td>\n",
       "      <td>0.076705</td>\n",
       "      <td>0.002855</td>\n",
       "      <td>0.013814</td>\n",
       "      <td>0.010226</td>\n",
       "      <td>0.00044</td>\n",
       "      <td>0.004754</td>\n",
       "    </tr>\n",
       "  </tbody>\n",
       "</table>\n",
       "</div>"
      ],
      "text/plain": [
       "     Common   Jaccard  PreferentialAttachment  AdamicAdar  ResourceAllocation  \\\n",
       "0  0.024985  0.112565                0.004704    0.022581            0.014680   \n",
       "1  0.031377  0.113924                0.008845    0.029988            0.025695   \n",
       "2  0.015689  0.076705                0.002855    0.013814            0.010226   \n",
       "\n",
       "   Sourcepr  Targetpr  \n",
       "0   0.00044  0.006048  \n",
       "1   0.00044  0.009100  \n",
       "2   0.00044  0.004754  "
      ]
     },
     "execution_count": 34,
     "metadata": {},
     "output_type": "execute_result"
    }
   ],
   "source": [
    "df_norm = df[['Common', 'Jaccard', \"PreferentialAttachment\", \"AdamicAdar\", \"ResourceAllocation\",\"Sourcepr\",\"Targetpr\"]].apply(lambda x: (x - x.min()) / (x.max() - x.min()))\n",
    "df_norm[:3]"
   ]
  },
  {
   "cell_type": "code",
   "execution_count": 22,
   "metadata": {},
   "outputs": [
    {
     "data": {
      "text/html": [
       "<div>\n",
       "<style>\n",
       "    .dataframe thead tr:only-child th {\n",
       "        text-align: right;\n",
       "    }\n",
       "\n",
       "    .dataframe thead th {\n",
       "        text-align: left;\n",
       "    }\n",
       "\n",
       "    .dataframe tbody tr th {\n",
       "        vertical-align: top;\n",
       "    }\n",
       "</style>\n",
       "<table border=\"1\" class=\"dataframe\">\n",
       "  <thead>\n",
       "    <tr style=\"text-align: right;\">\n",
       "      <th></th>\n",
       "      <th>positive</th>\n",
       "      <th>Common</th>\n",
       "      <th>Jaccard</th>\n",
       "      <th>PreferentialAttachment</th>\n",
       "      <th>AdamicAdar</th>\n",
       "      <th>ResourceAllocation</th>\n",
       "      <th>Sourcepr</th>\n",
       "      <th>Targetpr</th>\n",
       "    </tr>\n",
       "  </thead>\n",
       "  <tbody>\n",
       "    <tr>\n",
       "      <th>positive</th>\n",
       "      <td>1.000000</td>\n",
       "      <td>0.264289</td>\n",
       "      <td>0.392264</td>\n",
       "      <td>0.236218</td>\n",
       "      <td>0.241358</td>\n",
       "      <td>0.190700</td>\n",
       "      <td>0.037358</td>\n",
       "      <td>0.087551</td>\n",
       "    </tr>\n",
       "    <tr>\n",
       "      <th>Common</th>\n",
       "      <td>0.264289</td>\n",
       "      <td>1.000000</td>\n",
       "      <td>0.557371</td>\n",
       "      <td>0.873392</td>\n",
       "      <td>0.994626</td>\n",
       "      <td>0.884286</td>\n",
       "      <td>-0.093883</td>\n",
       "      <td>-0.043672</td>\n",
       "    </tr>\n",
       "    <tr>\n",
       "      <th>Jaccard</th>\n",
       "      <td>0.392264</td>\n",
       "      <td>0.557371</td>\n",
       "      <td>1.000000</td>\n",
       "      <td>0.317367</td>\n",
       "      <td>0.563675</td>\n",
       "      <td>0.600359</td>\n",
       "      <td>-0.086978</td>\n",
       "      <td>-0.005284</td>\n",
       "    </tr>\n",
       "    <tr>\n",
       "      <th>PreferentialAttachment</th>\n",
       "      <td>0.236218</td>\n",
       "      <td>0.873392</td>\n",
       "      <td>0.317367</td>\n",
       "      <td>1.000000</td>\n",
       "      <td>0.868294</td>\n",
       "      <td>0.758920</td>\n",
       "      <td>-0.091062</td>\n",
       "      <td>-0.023363</td>\n",
       "    </tr>\n",
       "    <tr>\n",
       "      <th>AdamicAdar</th>\n",
       "      <td>0.241358</td>\n",
       "      <td>0.994626</td>\n",
       "      <td>0.563675</td>\n",
       "      <td>0.868294</td>\n",
       "      <td>1.000000</td>\n",
       "      <td>0.921255</td>\n",
       "      <td>-0.082796</td>\n",
       "      <td>-0.037226</td>\n",
       "    </tr>\n",
       "    <tr>\n",
       "      <th>ResourceAllocation</th>\n",
       "      <td>0.190700</td>\n",
       "      <td>0.884286</td>\n",
       "      <td>0.600359</td>\n",
       "      <td>0.758920</td>\n",
       "      <td>0.921255</td>\n",
       "      <td>1.000000</td>\n",
       "      <td>-0.047076</td>\n",
       "      <td>-0.006804</td>\n",
       "    </tr>\n",
       "    <tr>\n",
       "      <th>Sourcepr</th>\n",
       "      <td>0.037358</td>\n",
       "      <td>-0.093883</td>\n",
       "      <td>-0.086978</td>\n",
       "      <td>-0.091062</td>\n",
       "      <td>-0.082796</td>\n",
       "      <td>-0.047076</td>\n",
       "      <td>1.000000</td>\n",
       "      <td>-0.041111</td>\n",
       "    </tr>\n",
       "    <tr>\n",
       "      <th>Targetpr</th>\n",
       "      <td>0.087551</td>\n",
       "      <td>-0.043672</td>\n",
       "      <td>-0.005284</td>\n",
       "      <td>-0.023363</td>\n",
       "      <td>-0.037226</td>\n",
       "      <td>-0.006804</td>\n",
       "      <td>-0.041111</td>\n",
       "      <td>1.000000</td>\n",
       "    </tr>\n",
       "  </tbody>\n",
       "</table>\n",
       "</div>"
      ],
      "text/plain": [
       "                        positive    Common   Jaccard  PreferentialAttachment  \\\n",
       "positive                1.000000  0.264289  0.392264                0.236218   \n",
       "Common                  0.264289  1.000000  0.557371                0.873392   \n",
       "Jaccard                 0.392264  0.557371  1.000000                0.317367   \n",
       "PreferentialAttachment  0.236218  0.873392  0.317367                1.000000   \n",
       "AdamicAdar              0.241358  0.994626  0.563675                0.868294   \n",
       "ResourceAllocation      0.190700  0.884286  0.600359                0.758920   \n",
       "Sourcepr                0.037358 -0.093883 -0.086978               -0.091062   \n",
       "Targetpr                0.087551 -0.043672 -0.005284               -0.023363   \n",
       "\n",
       "                        AdamicAdar  ResourceAllocation  Sourcepr  Targetpr  \n",
       "positive                  0.241358            0.190700  0.037358  0.087551  \n",
       "Common                    0.994626            0.884286 -0.093883 -0.043672  \n",
       "Jaccard                   0.563675            0.600359 -0.086978 -0.005284  \n",
       "PreferentialAttachment    0.868294            0.758920 -0.091062 -0.023363  \n",
       "AdamicAdar                1.000000            0.921255 -0.082796 -0.037226  \n",
       "ResourceAllocation        0.921255            1.000000 -0.047076 -0.006804  \n",
       "Sourcepr                 -0.082796           -0.047076  1.000000 -0.041111  \n",
       "Targetpr                 -0.037226           -0.006804 -0.041111  1.000000  "
      ]
     },
     "execution_count": 22,
     "metadata": {},
     "output_type": "execute_result"
    }
   ],
   "source": [
    "corr = df.corr()"
   ]
  },
  {
   "cell_type": "code",
   "execution_count": 24,
   "metadata": {},
   "outputs": [
    {
     "data": {
      "text/plain": [
       "<matplotlib.axes._subplots.AxesSubplot at 0x20a7b285b00>"
      ]
     },
     "execution_count": 24,
     "metadata": {},
     "output_type": "execute_result"
    },
    {
     "data": {
      "image/png": "[encoded data removed]",
      "text/plain": [
       "<matplotlib.figure.Figure at 0x20a2760c630>"
      ]
     },
     "metadata": {},
     "output_type": "display_data"
    }
   ],
   "source": [
    "import seaborn as sns\n",
    "%matplotlib inline\n",
    "corr = df.corr()\n",
    "# plot the heatmap\n",
    "sns.heatmap(corr, \n",
    "        xticklabels=corr.columns,\n",
    "        yticklabels=corr.columns)"
   ]
  },
  {
   "cell_type": "code",
   "execution_count": 37,
   "metadata": {},
   "outputs": [
    {
     "data": {
      "text/html": [
       "<div>\n",
       "<style>\n",
       "    .dataframe thead tr:only-child th {\n",
       "        text-align: right;\n",
       "    }\n",
       "\n",
       "    .dataframe thead th {\n",
       "        text-align: left;\n",
       "    }\n",
       "\n",
       "    .dataframe tbody tr th {\n",
       "        vertical-align: top;\n",
       "    }\n",
       "</style>\n",
       "<table border=\"1\" class=\"dataframe\">\n",
       "  <thead>\n",
       "    <tr style=\"text-align: right;\">\n",
       "      <th></th>\n",
       "      <th>Common</th>\n",
       "      <th>Jaccard</th>\n",
       "      <th>PreferentialAttachment</th>\n",
       "      <th>AdamicAdar</th>\n",
       "      <th>ResourceAllocation</th>\n",
       "      <th>Sourcepr</th>\n",
       "      <th>Targetpr</th>\n",
       "      <th>positive</th>\n",
       "    </tr>\n",
       "  </thead>\n",
       "  <tbody>\n",
       "    <tr>\n",
       "      <th>0</th>\n",
       "      <td>0.024985</td>\n",
       "      <td>0.112565</td>\n",
       "      <td>0.004704</td>\n",
       "      <td>0.022581</td>\n",
       "      <td>0.014680</td>\n",
       "      <td>0.00044</td>\n",
       "      <td>0.006048</td>\n",
       "      <td>True</td>\n",
       "    </tr>\n",
       "    <tr>\n",
       "      <th>1</th>\n",
       "      <td>0.031377</td>\n",
       "      <td>0.113924</td>\n",
       "      <td>0.008845</td>\n",
       "      <td>0.029988</td>\n",
       "      <td>0.025695</td>\n",
       "      <td>0.00044</td>\n",
       "      <td>0.009100</td>\n",
       "      <td>True</td>\n",
       "    </tr>\n",
       "    <tr>\n",
       "      <th>2</th>\n",
       "      <td>0.015689</td>\n",
       "      <td>0.076705</td>\n",
       "      <td>0.002855</td>\n",
       "      <td>0.013814</td>\n",
       "      <td>0.010226</td>\n",
       "      <td>0.00044</td>\n",
       "      <td>0.004754</td>\n",
       "      <td>True</td>\n",
       "    </tr>\n",
       "  </tbody>\n",
       "</table>\n",
       "</div>"
      ],
      "text/plain": [
       "     Common   Jaccard  PreferentialAttachment  AdamicAdar  ResourceAllocation  \\\n",
       "0  0.024985  0.112565                0.004704    0.022581            0.014680   \n",
       "1  0.031377  0.113924                0.008845    0.029988            0.025695   \n",
       "2  0.015689  0.076705                0.002855    0.013814            0.010226   \n",
       "\n",
       "   Sourcepr  Targetpr  positive  \n",
       "0   0.00044  0.006048      True  \n",
       "1   0.00044  0.009100      True  \n",
       "2   0.00044  0.004754      True  "
      ]
     },
     "execution_count": 37,
     "metadata": {},
     "output_type": "execute_result"
    }
   ],
   "source": [
    "target = df[['positive']]\n",
    "df = pd.concat([df_norm, target], axis=1)\n",
    "df[:3]"
   ]
  },
  {
   "cell_type": "code",
   "execution_count": 4,
   "metadata": {},
   "outputs": [],
   "source": [
    "from sklearn.model_selection import train_test_split\n",
    "train, test = train_test_split(df, test_size=0.3)\n",
    "from sklearn.metrics import accuracy_score\n",
    "training = train[['Common', 'Jaccard', \"PreferentialAttachment\", \"AdamicAdar\", \"ResourceAllocation\"]]\n",
    "training_labels = train['positive']\n",
    "testing = test[['Common', 'Jaccard', \"PreferentialAttachment\", \"AdamicAdar\", \"ResourceAllocation\"]]\n",
    "testing_labels = test['positive']\n",
    "training1 = train[['Common', \"AdamicAdar\"]]\n",
    "training_labels1 = train['positive']\n",
    "testing1 = test[['Common', \"AdamicAdar\"]]\n",
    "testing_labels1 = test['positive']\n",
    "training2 = train[['Jaccard', 'PreferentialAttachment']]\n",
    "training_labels2 = train['positive']\n",
    "testing2 = test[['Jaccard', 'PreferentialAttachment']]\n",
    "testing_labels2 = test['positive']\n",
    "training3 = train[['Common', 'Jaccard', \"PreferentialAttachment\", \"AdamicAdar\"]]\n",
    "training_labels3 = train['positive']\n",
    "testing3 = test[['Common', 'Jaccard', \"PreferentialAttachment\", \"AdamicAdar\"]]\n",
    "testing_labels3 = test['positive']"
   ]
  },
  {
   "cell_type": "code",
   "execution_count": 5,
   "metadata": {
    "collapsed": true
   },
   "outputs": [],
   "source": [
    "from sklearn import svm\n",
    "from sklearn.ensemble.forest import RandomForestClassifier\n",
    "from sklearn.metrics import accuracy_score\n",
    "def mySvm(training, training_labels, testing, testing_labels):\n",
    "    #Support Vector Machine\n",
    "    clf = svm.SVC()\n",
    "    clf.fit(training, training_labels)\n",
    "    print (\"+++++++++ Finishing training the SVM classifier ++++++++++++\")\n",
    "    result = clf.predict(testing)\n",
    "    print (\"SVM accuracy:\", accuracy_score(testing_labels, result))\n",
    "\n",
    "def myTree(training, training_labels, testing, testing_labels):\n",
    "    clf = RandomForestClassifier(random_state=0)\n",
    "    result = clf.fit(training, training_labels).predict(testing)\n",
    "    print (\"+++++++++ Finishing training the Decision Tree classifier ++++++++++++\")\n",
    "    print (\"Random Forest accuracy:\", accuracy_score(testing_labels, result))"
   ]
  },
  {
   "cell_type": "code",
   "execution_count": null,
   "metadata": {},
   "outputs": [
    {
     "name": "stdout",
     "output_type": "stream",
     "text": [
      "+++++++++ Finishing training the SVM classifier ++++++++++++\n",
      "SVM accuracy: 0.838180903258\n",
      "+++++++++ Finishing training the Decision Tree classifier ++++++++++++\n",
      "Random Forest accuracy: 0.830695684992\n"
     ]
    }
   ],
   "source": [
    "from sklearn.metrics import accuracy_score\n",
    "mySvm(training1, training_labels1, testing1, testing_labels1)\n",
    "myTree(training1, training_labels1, testing1, testing_labels1)"
   ]
  },
  {
   "cell_type": "code",
   "execution_count": 51,
   "metadata": {},
   "outputs": [
    {
     "name": "stdout",
     "output_type": "stream",
     "text": [
      "[False  True  True False False False False]\n",
      "[2 1 1 3 4 5 6]\n",
      "[ 0.1410962   0.0935227   0.27872003  0.13479721  0.06637201  0.14626355\n",
      "  0.13922832]\n"
     ]
    }
   ],
   "source": [
    "from sklearn.feature_selection import RFE\n",
    "from sklearn.linear_model import LogisticRegression\n",
    "\n",
    "model = LogisticRegression()\n",
    "# create the RFE model and select 3 attributes\n",
    "rfe = RFE(model, 2)\n",
    "rfe = rfe.fit(training, training_labels)\n",
    "# summarize the selection of the attributes\n",
    "print(rfe.support_)\n",
    "print(rfe.ranking_)\n",
    "from sklearn import metrics\n",
    "from sklearn.ensemble import ExtraTreesClassifier\n",
    "\n",
    "model = ExtraTreesClassifier()\n",
    "model.fit(training, training_labels)\n",
    "# display the relative importance of each attribute based on extra classifier is 'Common', 'Jaccard', \"AdamicAdar\"\n",
    "print(model.feature_importances_)"
   ]
  },
  {
   "cell_type": "code",
   "execution_count": 50,
   "metadata": {},
   "outputs": [
    {
     "name": "stdout",
     "output_type": "stream",
     "text": [
      "Score list: [  979.42336549  2435.26875589   891.45653541   859.64149836   660.29515642\n",
      "    43.87494122   177.73808969]\n",
      "Feature list: Index(['Common', 'Jaccard', 'PreferentialAttachment', 'AdamicAdar',\n",
      "       'ResourceAllocation', 'Sourcepr', 'Targetpr'],\n",
      "      dtype='object')\n"
     ]
    }
   ],
   "source": [
    "from sklearn.feature_selection import SelectKBest\n",
    "from sklearn.feature_selection import chi2\n",
    "# find best scored 5 features\n",
    "select_feature = SelectKBest(chi2, k=3).fit(training, training_labels)\n",
    "print('Score list:', select_feature.scores_)\n",
    "print('Feature list:', training.columns)\n",
    "# The same best features are 'Common','PreferentialAttachment', 'AdamicAdar'\n",
    "# Thus we only choose 3 features as siginificant attributes"
   ]
  },
  {
   "cell_type": "code",
   "execution_count": 56,
   "metadata": {},
   "outputs": [
    {
     "name": "stdout",
     "output_type": "stream",
     "text": [
      "LogisticRegression validation data accuracy: 0.823348848912\n",
      "LogisticRegression development data accuracy: 0.822783786407\n",
      "Raw AUC score: 0.822767611633\n"
     ]
    },
    {
     "name": "stderr",
     "output_type": "stream",
     "text": [
      "C:\\Users\\Cheryl Zhang\\Anaconda3\\lib\\site-packages\\sklearn\\model_selection\\_search.py:761: DeprecationWarning: The grid_scores_ attribute was deprecated in version 0.18 in favor of the more elaborate cv_results_ attribute. The grid_scores_ attribute will not be available from 0.20\n",
      "  DeprecationWarning)\n"
     ]
    }
   ],
   "source": [
    "from sklearn.linear_model import LogisticRegression\n",
    "from sklearn import grid_search\n",
    "from sklearn.model_selection import GridSearchCV\n",
    "param_grid = {'C': [0.001, 0.01, 0.1, 1, 10, 100, 1000] }\n",
    "log = GridSearchCV(LogisticRegression(penalty='l2'), param_grid)\n",
    "GridSearchCV(cv=None,\n",
    "             estimator=LogisticRegression(C=1.0, intercept_scaling=1,   \n",
    "               dual=False, fit_intercept=True, penalty='l2', tol=0.0001),\n",
    "             param_grid={'C': [0.001, 0.01, 0.1, 1, 10, 100, 1000]})\n",
    "log = log.fit(training1, training_labels1)\n",
    "resulttesting = log.predict(testing1)\n",
    "resutlttraining = log.predict(training1)\n",
    "print (\"LogisticRegression validation data accuracy:\", accuracy_score(testing_labels1, resulttesting))\n",
    "print (\"LogisticRegression development data accuracy:\", accuracy_score(training_labels1, resutlttraining))\n",
    "best_parameters, score, _ = max(log.grid_scores_, key=lambda x: x[1])\n",
    "print('Raw AUC score:', score)"
   ]
  },
  {
   "cell_type": "code",
   "execution_count": 29,
   "metadata": {},
   "outputs": [
    {
     "name": "stdout",
     "output_type": "stream",
     "text": [
      "C: 1000\n"
     ]
    }
   ],
   "source": [
    "for param_name in sorted(best_parameters.keys()):\n",
    "    print(\"%s: %r\" % (param_name, best_parameters[param_name]))"
   ]
  },
  {
   "cell_type": "code",
   "execution_count": 70,
   "metadata": {},
   "outputs": [
    {
     "name": "stdout",
     "output_type": "stream",
     "text": [
      "Fitting 5 folds for each of 6 candidates, totalling 30 fits\n"
     ]
    },
    {
     "name": "stderr",
     "output_type": "stream",
     "text": [
      "[Parallel(n_jobs=-1)]: Done  30 out of  30 | elapsed:  4.0min finished\n"
     ]
    },
    {
     "data": {
      "text/plain": [
       "RandomForestRegressor(bootstrap=True, criterion='mse', max_depth=None,\n",
       "           max_features='auto', max_leaf_nodes=None,\n",
       "           min_impurity_decrease=0.0, min_impurity_split=None,\n",
       "           min_samples_leaf=5, min_samples_split=2,\n",
       "           min_weight_fraction_leaf=0.0, n_estimators=100, n_jobs=1,\n",
       "           oob_score=False, random_state=None, verbose=0, warm_start=False)"
      ]
     },
     "execution_count": 70,
     "metadata": {},
     "output_type": "execute_result"
    }
   ],
   "source": [
    "from sklearn.ensemble import RandomForestRegressor\n",
    "from sklearn.model_selection import GridSearchCV\n",
    "RFR = RandomForestRegressor()\n",
    "parameters = {'n_estimators': [5, 10, 100],\n",
    "              #'criterion': ['mse'],\n",
    "              #'max_depth': [5, 10, 15], \n",
    "              #'min_samples_split': [2, 5, 10],\n",
    "              'min_samples_leaf': [1,5]\n",
    "             }\n",
    "grid_obj = GridSearchCV(RFR, parameters,\n",
    "                        cv=5, #Determines the cross-validation splitting strategy /to specify the number of folds in a (Stratified)KFold\n",
    "                        n_jobs=-1, #Number of jobs to run in parallel\n",
    "                        verbose=1)\n",
    "grid_obj = grid_obj.fit(training2, training_labels2)\n",
    "RFR = grid_obj.best_estimator_\n",
    "RFR.fit(training2, training_labels2)"
   ]
  },
  {
   "cell_type": "code",
   "execution_count": 79,
   "metadata": {},
   "outputs": [
    {
     "name": "stdout",
     "output_type": "stream",
     "text": [
      "Raw AUC score of Random Forest: 0.822767611633\n",
      "RFR validation data accuracy: 0.843150081771\n",
      "RFR development data accuracy: 0.842813547991\n",
      "C: 1000\n"
     ]
    },
    {
     "name": "stderr",
     "output_type": "stream",
     "text": [
      "C:\\Users\\Cheryl Zhang\\Anaconda3\\lib\\site-packages\\sklearn\\model_selection\\_search.py:761: DeprecationWarning: The grid_scores_ attribute was deprecated in version 0.18 in favor of the more elaborate cv_results_ attribute. The grid_scores_ attribute will not be available from 0.20\n",
      "  DeprecationWarning)\n"
     ]
    }
   ],
   "source": [
    "from sklearn.metrics import r2_score\n",
    "predictions = RFR.predict(testing2)\n",
    "predictions2 = RFR.predict(training2)\n",
    "best_parameters, score, _ = max(log.grid_scores_, key=lambda x: x[1])\n",
    "print('Raw AUC score of Random Forest:', score)\n",
    "print (\"RFR validation data accuracy:\", accuracy_score(testing_labels2, predictions))\n",
    "print (\"RFR development data accuracy:\", accuracy_score(training_labels2, predictions2))\n",
    "for param_name in sorted(best_parameters.keys()):\n",
    "    print(\"%s: %r\" % (param_name, best_parameters[param_name]))"
   ]
  },
  {
   "cell_type": "code",
   "execution_count": 57,
   "metadata": {},
   "outputs": [
    {
     "name": "stdout",
     "output_type": "stream",
     "text": [
      "Fitting 5 folds for each of 1 candidates, totalling 5 fits\n"
     ]
    },
    {
     "name": "stderr",
     "output_type": "stream",
     "text": [
      "[Parallel(n_jobs=5)]: Done   2 out of   5 | elapsed:    5.0s remaining:    7.5s\n",
      "[Parallel(n_jobs=5)]: Done   5 out of   5 | elapsed:   10.8s remaining:    0.0s\n",
      "[Parallel(n_jobs=5)]: Done   5 out of   5 | elapsed:   10.8s finished\n"
     ]
    },
    {
     "name": "stdout",
     "output_type": "stream",
     "text": [
      "Raw AUC score: 0.8808907250155672\n",
      "Xgboost validation data accuracy: 0.843150081771\n",
      "Xgboost development data accuracy: 0.842813547991\n",
      "Xgboost accuracy: 0.843150081771\n",
      "colsample_bytree: 0.7\n",
      "learning_rate: 0.05\n",
      "max_depth: 6\n",
      "min_child_weight: 11\n",
      "missing: -999\n",
      "n_estimators: 5\n",
      "nthread: 4\n",
      "objective: 'binary:logistic'\n",
      "seed: 1337\n",
      "silent: 1\n",
      "subsample: 0.8\n"
     ]
    }
   ],
   "source": [
    "import xgboost as xgb\n",
    "from sklearn import preprocessing\n",
    "from sklearn.cross_validation import train_test_split\n",
    "\n",
    "from sklearn.cross_validation import *\n",
    "from sklearn.grid_search import GridSearchCV\n",
    "xgb_model = xgb.XGBClassifier()\n",
    "\n",
    "#brute force scan for all parameters, here are the tricks\n",
    "#usually max_depth is 6,7,8\n",
    "#learning rate is around 0.05, but small changes may make big diff\n",
    "#tuning min_child_weight subsample colsample_bytree can have \n",
    "#much fun of fighting against overfit \n",
    "#n_estimators is how many round of boosting\n",
    "#finally, ensemble xgboost with multiple seeds may reduce variance\n",
    "parameters = {'nthread':[4], #when use hyperthread, xgboost may become slower\n",
    "              'objective':['binary:logistic'],\n",
    "              'learning_rate': [0.05], #so called `eta` value\n",
    "              'max_depth': [6],\n",
    "              'min_child_weight': [11],\n",
    "              'silent': [1],\n",
    "              'subsample': [0.8],\n",
    "              'colsample_bytree': [0.7],\n",
    "              'n_estimators': [5], #number of trees, change it to 1000 for better results\n",
    "              'missing':[-999],\n",
    "              'seed': [1337]}\n",
    "\n",
    "\n",
    "xgclf = GridSearchCV(xgb_model, parameters, n_jobs=5, \n",
    "                   cv=StratifiedKFold(training_labels2, n_folds=5, shuffle=True), \n",
    "                   scoring='roc_auc',\n",
    "                   verbose=2, refit=True)\n",
    "\n",
    "xgclf.fit(training2, training_labels2)\n",
    "best_parameters, score, _ = max(xgclf.grid_scores_, key=lambda x: x[1])\n",
    "print('Raw AUC score:', score)\n",
    "resulttesting = xgclf.predict(testing2)\n",
    "resutlttraining = xgclf.predict(training2)\n",
    "print (\"Xgboost validation data accuracy:\", accuracy_score(testing_labels2, resulttesting))\n",
    "print (\"Xgboost development data accuracy:\", accuracy_score(training_labels2, resutlttraining))\n",
    "print (\"Xgboost accuracy:\", accuracy_score(testing_labels2, resulttesting))\n",
    "for param_name in sorted(best_parameters.keys()):\n",
    "    print(\"%s: %r\" % (param_name, best_parameters[param_name]))"
   ]
  },
  {
   "cell_type": "code",
   "execution_count": 62,
   "metadata": {},
   "outputs": [
    {
     "name": "stderr",
     "output_type": "stream",
     "text": [
      "Using TensorFlow backend.\n"
     ]
    },
    {
     "name": "stdout",
     "output_type": "stream",
     "text": [
      "[[  0.00000000e+00   7.83240328e-07]\n",
      " [  0.00000000e+00   5.35214224e-06]\n",
      " [  2.68096515e-03   4.50154324e-03]\n",
      " [  0.00000000e+00   2.57163908e-05]\n",
      " [  0.00000000e+00   1.04301504e-04]\n",
      " [  0.00000000e+00   7.81934927e-05]\n",
      " [  1.06022053e-02   3.46089098e-02]\n",
      " [  0.00000000e+00   3.91620164e-07]\n",
      " [  1.36892539e-02   1.96866151e-02]\n",
      " [  0.00000000e+00   6.13538257e-06]]\n",
      "[[False]\n",
      " [False]\n",
      " [ True]\n",
      " [ True]\n",
      " [False]\n",
      " [False]\n",
      " [ True]\n",
      " [False]\n",
      " [ True]\n",
      " [False]]\n"
     ]
    },
    {
     "name": "stderr",
     "output_type": "stream",
     "text": [
      "C:\\Users\\Cheryl Zhang\\Anaconda3\\lib\\site-packages\\ipykernel_launcher.py:5: FutureWarning: reshape is deprecated and will raise in a subsequent release. Please use .values.reshape(...) instead\n",
      "  \"\"\"\n",
      "C:\\Users\\Cheryl Zhang\\Anaconda3\\lib\\site-packages\\ipykernel_launcher.py:7: FutureWarning: reshape is deprecated and will raise in a subsequent release. Please use .values.reshape(...) instead\n",
      "  import sys\n"
     ]
    }
   ],
   "source": [
    "import keras\n",
    "\n",
    "# Convert data as np.array\n",
    "features = np.array(training2)\n",
    "targets = np.array(training_labels2.reshape(training_labels2.shape[0],1))\n",
    "features_validation= np.array(testing2)\n",
    "targets_validation = np.array(testing_labels2.reshape(testing_labels2.shape[0],1))\n",
    "\n",
    "print(features[:10])\n",
    "print(targets[:10])"
   ]
  },
  {
   "cell_type": "code",
   "execution_count": 63,
   "metadata": {},
   "outputs": [
    {
     "name": "stdout",
     "output_type": "stream",
     "text": [
      "_________________________________________________________________\n",
      "Layer (type)                 Output Shape              Param #   \n",
      "=================================================================\n",
      "dense_1 (Dense)              (None, 32)                96        \n",
      "_________________________________________________________________\n",
      "dropout_1 (Dropout)          (None, 32)                0         \n",
      "_________________________________________________________________\n",
      "dense_2 (Dense)              (None, 16)                528       \n",
      "_________________________________________________________________\n",
      "dropout_2 (Dropout)          (None, 16)                0         \n",
      "_________________________________________________________________\n",
      "dense_3 (Dense)              (None, 1)                 17        \n",
      "=================================================================\n",
      "Total params: 641\n",
      "Trainable params: 641\n",
      "Non-trainable params: 0\n",
      "_________________________________________________________________\n"
     ]
    }
   ],
   "source": [
    "from keras.models import Sequential\n",
    "from keras.layers.core import Dense, Dropout, Activation\n",
    "\n",
    "# Building the model\n",
    "model = Sequential()\n",
    "model.add(Dense(32, activation='relu', input_shape=(training2.shape[1],)))\n",
    "model.add(Dropout(.2))\n",
    "model.add(Dense(16, activation='relu'))\n",
    "model.add(Dropout(.1))\n",
    "model.add(Dense(1))\n",
    "\n",
    "# Compiling the model\n",
    "model.compile(loss = 'mse', optimizer='adam', metrics=['mse']) #mse: mean_square_error\n",
    "model.summary()"
   ]
  },
  {
   "cell_type": "code",
   "execution_count": 80,
   "metadata": {},
   "outputs": [
    {
     "name": "stdout",
     "output_type": "stream",
     "text": [
      "Epoch 1/50\n",
      "185474/185474 [==============================] - 14s 73us/step - loss: 0.1354 - mean_squared_error: 0.1354\n",
      "Epoch 2/50\n",
      "185474/185474 [==============================] - 14s 75us/step - loss: 0.1356 - mean_squared_error: 0.1356\n",
      "Epoch 3/50\n",
      "185474/185474 [==============================] - 14s 75us/step - loss: 0.1361 - mean_squared_error: 0.1361\n",
      "Epoch 4/50\n",
      "185474/185474 [==============================] - 14s 73us/step - loss: 0.1349 - mean_squared_error: 0.1349\n",
      "Epoch 5/50\n",
      "185474/185474 [==============================] - 14s 74us/step - loss: 0.1359 - mean_squared_error: 0.1359\n",
      "Epoch 6/50\n",
      "185474/185474 [==============================] - 13s 71us/step - loss: 0.1360 - mean_squared_error: 0.1360\n",
      "Epoch 7/50\n",
      "185474/185474 [==============================] - 13s 72us/step - loss: 0.1352 - mean_squared_error: 0.1352\n",
      "Epoch 8/50\n",
      "185474/185474 [==============================] - 14s 73us/step - loss: 0.1352 - mean_squared_error: 0.1352\n",
      "Epoch 9/50\n",
      "185474/185474 [==============================] - 14s 74us/step - loss: 0.1352 - mean_squared_error: 0.1352\n",
      "Epoch 10/50\n",
      "185474/185474 [==============================] - 14s 73us/step - loss: 0.1354 - mean_squared_error: 0.1354\n",
      "Epoch 11/50\n",
      "185474/185474 [==============================] - 13s 72us/step - loss: 0.1356 - mean_squared_error: 0.1356\n",
      "Epoch 12/50\n",
      "185474/185474 [==============================] - 14s 73us/step - loss: 0.1354 - mean_squared_error: 0.1354\n",
      "Epoch 13/50\n",
      "185474/185474 [==============================] - 13s 70us/step - loss: 0.1357 - mean_squared_error: 0.1357\n",
      "Epoch 14/50\n",
      "185474/185474 [==============================] - 14s 74us/step - loss: 0.1354 - mean_squared_error: 0.1354\n",
      "Epoch 15/50\n",
      "185474/185474 [==============================] - 13s 72us/step - loss: 0.1357 - mean_squared_error: 0.1357\n",
      "Epoch 16/50\n",
      "185474/185474 [==============================] - 15s 79us/step - loss: 0.1348 - mean_squared_error: 0.1348\n",
      "Epoch 17/50\n",
      "185474/185474 [==============================] - 13s 73us/step - loss: 0.1357 - mean_squared_error: 0.1357\n",
      "Epoch 18/50\n",
      "185474/185474 [==============================] - 14s 76us/step - loss: 0.1350 - mean_squared_error: 0.1350\n",
      "Epoch 19/50\n",
      "185474/185474 [==============================] - 14s 73us/step - loss: 0.1355 - mean_squared_error: 0.1355\n",
      "Epoch 20/50\n",
      "185474/185474 [==============================] - 13s 72us/step - loss: 0.1354 - mean_squared_error: 0.1354\n",
      "Epoch 21/50\n",
      "185474/185474 [==============================] - 14s 74us/step - loss: 0.1353 - mean_squared_error: 0.1353\n",
      "Epoch 22/50\n",
      "185474/185474 [==============================] - 13s 71us/step - loss: 0.1367 - mean_squared_error: 0.1367\n",
      "Epoch 23/50\n",
      "185474/185474 [==============================] - 14s 74us/step - loss: 0.1353 - mean_squared_error: 0.1353\n",
      "Epoch 24/50\n",
      "185474/185474 [==============================] - 13s 69us/step - loss: 0.1352 - mean_squared_error: 0.1352\n",
      "Epoch 25/50\n",
      "185474/185474 [==============================] - 13s 70us/step - loss: 0.1354 - mean_squared_error: 0.1354\n",
      "Epoch 26/50\n",
      "185474/185474 [==============================] - 12s 66us/step - loss: 0.1354 - mean_squared_error: 0.1354\n",
      "Epoch 27/50\n",
      "185474/185474 [==============================] - 15s 83us/step - loss: 0.1352 - mean_squared_error: 0.1352\n",
      "Epoch 28/50\n",
      "185474/185474 [==============================] - 13s 68us/step - loss: 0.1352 - mean_squared_error: 0.1352\n",
      "Epoch 29/50\n",
      "185474/185474 [==============================] - 13s 67us/step - loss: 0.1361 - mean_squared_error: 0.1361\n",
      "Epoch 30/50\n",
      "185474/185474 [==============================] - 13s 69us/step - loss: 0.1353 - mean_squared_error: 0.1353\n",
      "Epoch 31/50\n",
      "185474/185474 [==============================] - 13s 72us/step - loss: 0.1356 - mean_squared_error: 0.1356\n",
      "Epoch 32/50\n",
      "185474/185474 [==============================] - 12s 65us/step - loss: 0.1356 - mean_squared_error: 0.1356\n",
      "Epoch 33/50\n",
      "185474/185474 [==============================] - 12s 67us/step - loss: 0.1349 - mean_squared_error: 0.1349\n",
      "Epoch 34/50\n",
      "185474/185474 [==============================] - 13s 70us/step - loss: 0.1354 - mean_squared_error: 0.1354\n",
      "Epoch 35/50\n",
      "185474/185474 [==============================] - 13s 72us/step - loss: 0.1359 - mean_squared_error: 0.1359\n",
      "Epoch 36/50\n",
      "185474/185474 [==============================] - 12s 64us/step - loss: 0.1352 - mean_squared_error: 0.1352\n",
      "Epoch 37/50\n",
      "185474/185474 [==============================] - 12s 67us/step - loss: 0.1356 - mean_squared_error: 0.1356\n",
      "Epoch 38/50\n",
      "185474/185474 [==============================] - 12s 67us/step - loss: 0.1356 - mean_squared_error: 0.1356\n",
      "Epoch 39/50\n",
      "185474/185474 [==============================] - 12s 67us/step - loss: 0.1351 - mean_squared_error: 0.1351\n",
      "Epoch 40/50\n",
      "185474/185474 [==============================] - 13s 68us/step - loss: 0.1350 - mean_squared_error: 0.1350\n",
      "Epoch 41/50\n",
      "185474/185474 [==============================] - 12s 65us/step - loss: 0.1364 - mean_squared_error: 0.1364\n",
      "Epoch 42/50\n",
      "185474/185474 [==============================] - 13s 69us/step - loss: 0.1356 - mean_squared_error: 0.1356\n",
      "Epoch 43/50\n",
      "185474/185474 [==============================] - 13s 68us/step - loss: 0.1357 - mean_squared_error: 0.1357\n",
      "Epoch 44/50\n",
      "185474/185474 [==============================] - 13s 68us/step - loss: 0.1348 - mean_squared_error: 0.1348\n",
      "Epoch 45/50\n",
      "185474/185474 [==============================] - 12s 66us/step - loss: 0.1350 - mean_squared_error: 0.1350\n",
      "Epoch 46/50\n",
      "185474/185474 [==============================] - 13s 69us/step - loss: 0.1356 - mean_squared_error: 0.1356\n",
      "Epoch 47/50\n",
      "185474/185474 [==============================] - 13s 71us/step - loss: 0.1373 - mean_squared_error: 0.1373\n",
      "Epoch 48/50\n",
      "185474/185474 [==============================] - 13s 68us/step - loss: 0.1358 - mean_squared_error: 0.1358\n",
      "Epoch 49/50\n",
      "185474/185474 [==============================] - 12s 66us/step - loss: 0.1361 - mean_squared_error: 0.1361\n",
      "Epoch 50/50\n",
      "185474/185474 [==============================] - 12s 63us/step - loss: 0.1349 - mean_squared_error: 0.1349\n",
      "R2 score =  0.490521224666 / 1.0\n"
     ]
    }
   ],
   "source": [
    "model.fit(training2, training_labels2, batch_size = 32, epochs = 50)\n",
    "predictions = model.predict(features_validation, verbose=0)\n",
    "print('R2 score = ',r2_score(testing_labels2, predictions), '/ 1.0')"
   ]
  },
  {
   "cell_type": "code",
   "execution_count": null,
   "metadata": {},
   "outputs": [],
   "source": [
    "from sklearn.svm import SVC\n",
    "from sklearn.model_selection import GridSearchCV\n",
    "svm = SVC()\n",
    "parameters = {'kernel':('linear', 'rbf'), 'C':(1,0.25,0.5,0.75),'gamma': (1,2,3,'auto'),'decision_function_shape':('ovo','ovr'),'shrinking':(True,False)}\n",
    "svmclf = GridSearchCV(svm, parameters)\n",
    "svmclf.fit(training1,training_labels1)\n",
    "print(\"accuracy:\"+str(np.average(cross_val_score(svmclf, training1, training_labels1, scoring='accuracy'))))\n",
    "print(\"f1:\"+str(np.average(cross_val_score(svmclf, training1, training_labels1, scoring='f1'))))\n",
    "resulttesting = svmclf.predict(testing1)\n",
    "resutlttraining = svmclf.predict(training1)\n",
    "print (\"LogisticRegression validation data accuracy:\", accuracy_score(testing_labels1, resulttesting))\n",
    "print (\"LogisticRegression development data accuracy:\", accuracy_score(training_labels1, resutlttraining))\n",
    "best_parameters, score, _ = max(log.grid_scores_, key=lambda x: x[1])\n",
    "print('Raw AUC score:', score)\n",
    "for param_name in sorted(best_parameters.keys()):\n",
    "    print(\"%s: %r\" % (param_name, best_parameters[param_name]))"
   ]
  },
  {
   "cell_type": "code",
   "execution_count": 32,
   "metadata": {},
   "outputs": [
    {
     "name": "stdout",
     "output_type": "stream",
     "text": [
      "   Unnamed: 0   source   target        aa  common\n",
      "0           0  2184483  1300190  0.000000       0\n",
      "1           1  3151356  1452193  0.407705       4\n",
      "2           2  1579396   193159  0.000000       0\n",
      "3           3  1406432  2481036  1.238898       7\n",
      "4           4  2389638   593017  0.802812       6\n"
     ]
    }
   ],
   "source": [
    "from pandas import DataFrame, Series\n",
    "import pandas as pd\n",
    "pd.read_table('C:/Users/Cheryl Zhang/Desktop/pred.txt', sep = '\\t')\n",
    "pdtable = pd.read_table('C:/Users/Cheryl Zhang/Desktop/pred.txt', sep = '\\t')\n",
    "print(pdtable[:5])"
   ]
  },
  {
   "cell_type": "code",
   "execution_count": 36,
   "metadata": {},
   "outputs": [
    {
     "data": {
      "text/html": [
       "<div>\n",
       "<style>\n",
       "    .dataframe thead tr:only-child th {\n",
       "        text-align: right;\n",
       "    }\n",
       "\n",
       "    .dataframe thead th {\n",
       "        text-align: left;\n",
       "    }\n",
       "\n",
       "    .dataframe tbody tr th {\n",
       "        vertical-align: top;\n",
       "    }\n",
       "</style>\n",
       "<table border=\"1\" class=\"dataframe\">\n",
       "  <thead>\n",
       "    <tr style=\"text-align: right;\">\n",
       "      <th></th>\n",
       "      <th>Common</th>\n",
       "      <th>AdamicAdar</th>\n",
       "    </tr>\n",
       "  </thead>\n",
       "  <tbody>\n",
       "    <tr>\n",
       "      <th>0</th>\n",
       "      <td>0</td>\n",
       "      <td>0.000000</td>\n",
       "    </tr>\n",
       "    <tr>\n",
       "      <th>1</th>\n",
       "      <td>4</td>\n",
       "      <td>0.407705</td>\n",
       "    </tr>\n",
       "    <tr>\n",
       "      <th>2</th>\n",
       "      <td>0</td>\n",
       "      <td>0.000000</td>\n",
       "    </tr>\n",
       "  </tbody>\n",
       "</table>\n",
       "</div>"
      ],
      "text/plain": [
       "   Common  AdamicAdar\n",
       "0       0    0.000000\n",
       "1       4    0.407705\n",
       "2       0    0.000000"
      ]
     },
     "execution_count": 36,
     "metadata": {},
     "output_type": "execute_result"
    }
   ],
   "source": [
    "pred = pdtable[['common', 'aa']]\n",
    "len(pred)\n",
    "pred.columns = ['Common', 'AdamicAdar']\n",
    "pred[:3]"
   ]
  },
  {
   "cell_type": "code",
   "execution_count": 37,
   "metadata": {},
   "outputs": [
    {
     "name": "stdout",
     "output_type": "stream",
     "text": [
      "[ 0.43541113  0.56757724  0.43541113]\n"
     ]
    }
   ],
   "source": [
    "test_probs = clf.predict_proba(pred)[:,1]\n",
    "print(test_probs[:3])"
   ]
  },
  {
   "cell_type": "code",
   "execution_count": 41,
   "metadata": {},
   "outputs": [
    {
     "name": "stdout",
     "output_type": "stream",
     "text": [
      "[ 0.25724323  0.09355926  0.25724323]\n"
     ]
    }
   ],
   "source": [
    "preprob = log.predict_proba(pred)[:,1]\n",
    "print(preprob[:3])"
   ]
  },
  {
   "cell_type": "code",
   "execution_count": 43,
   "metadata": {
    "collapsed": true
   },
   "outputs": [],
   "source": [
    "sample = pd.read_csv('C:/Users/Cheryl Zhang/Desktop/sample.csv')\n",
    "sample.Prediction = test_probs\n",
    "sample.to_csv(\"submissionxgboost.csv\", index=False)"
   ]
  },
  {
   "cell_type": "code",
   "execution_count": 44,
   "metadata": {
    "collapsed": true
   },
   "outputs": [],
   "source": [
    "sample.Prediction = preprob\n",
    "sample.to_csv(\"submissionlog.csv\", index=False)"
   ]
  }
 ],
 "metadata": {
  "kernelspec": {
   "display_name": "Python 3",
   "language": "python",
   "name": "python3"
  },
  "language_info": {
   "codemirror_mode": {
    "name": "ipython",
    "version": 3
   },
   "file_extension": ".py",
   "mimetype": "text/x-python",
   "name": "python",
   "nbconvert_exporter": "python",
   "pygments_lexer": "ipython3",
   "version": "3.6.3"
  }
 },
 "nbformat": 4,
 "nbformat_minor": 2
}
